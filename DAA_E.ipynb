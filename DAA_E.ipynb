{
  "nbformat": 4,
  "nbformat_minor": 0,
  "metadata": {
    "colab": {
      "provenance": [],
      "authorship_tag": "ABX9TyPIc/mUqsQcRbp/gbIdceWN",
      "include_colab_link": true
    },
    "kernelspec": {
      "name": "python3",
      "display_name": "Python 3"
    },
    "language_info": {
      "name": "python"
    }
  },
  "cells": [
    {
      "cell_type": "markdown",
      "metadata": {
        "id": "view-in-github",
        "colab_type": "text"
      },
      "source": [
        "<a href=\"https://colab.research.google.com/github/SindhuKadari/CBIT-Winter-Upskilling/blob/main/DAA_E.ipynb\" target=\"_parent\"><img src=\"https://colab.research.google.com/assets/colab-badge.svg\" alt=\"Open In Colab\"/></a>"
      ]
    },
    {
      "cell_type": "markdown",
      "source": [
        "*1. Min max(recursion)*\n",
        "\n",
        "*2. Min max(iteration)*\n",
        "\n",
        "*3. Quicksort(random)*\n",
        "\n",
        "*4. Fibonacci(recursion)*\n",
        "\n",
        "*5. Fibonacci(iteration)*\n",
        "\n",
        "*6. Knapsack*\n",
        "\n",
        "*7. Huffman Code*\n",
        "\n",
        "*8. Job scheduling*\n",
        "\n",
        "*9. 0/1 knapsack*\n",
        "\n",
        "*10. Travelling salesperson*\n",
        "\n",
        "*11. Matrix chain multiplication*\n",
        "\n",
        "*12. Longest common subsequence*\n",
        "\n",
        "*13. Obst*\n",
        "\n",
        "*14. 8 queens*\n",
        "\n",
        "*15. Strassen matrix*\n",
        "\n",
        "*16. Hamiltonian cycle*\n",
        "\n",
        "*17. Graph colouring*\n",
        "\n",
        "*18. 0/1 knapsack(branch and bound)-fifo*\n",
        "\n",
        "*19. Biconnected components*\n",
        "\n",
        "*20. Kosaraj*\n",
        "\n",
        "*21. Tarjans*\n",
        "\n",
        "*22. Topological sorting(dfs)*\n",
        "\n",
        "*23. Topological sorting(source elimination)*\n",
        "\n",
        "*24. Dijkstras*\n",
        "\n",
        "*25. Bellmanford*\n",
        "\n",
        "*26. Johnsons algorithm*\n",
        "\n",
        "*27. Prims algorithm*\n",
        "\n",
        "*28. Kruskals algorithm*\n",
        "\n",
        "*29. Mergesort*\n"
      ],
      "metadata": {
        "id": "KcKLkEQHneo_"
      }
    },
    {
      "cell_type": "code",
      "source": [
        "#(1) MINMAX-- RECURSION\n",
        "def minmax(arr):\n",
        "  if len(arr)==1 :\n",
        "    return arr[0],arr[0]\n",
        "  elif len(arr)==2:\n",
        "    return max(arr[0],arr[1]),min(arr[0],arr[1])\n",
        "  else:\n",
        "    mid=len(arr)//2\n",
        "    max1,min1=minmax(arr[:mid])\n",
        "    max2,min2=minmax(arr[mid:])\n",
        "    return max(max1,max2),min(min1,min2)\n",
        "arr=[1,2,3,4,5,6,7,8,9]\n",
        "print(minmax(arr))"
      ],
      "metadata": {
        "colab": {
          "base_uri": "https://localhost:8080/"
        },
        "id": "kffVbshuSL3B",
        "outputId": "52d617a3-6a58-449b-db4c-81aa96765e16"
      },
      "execution_count": 1,
      "outputs": [
        {
          "output_type": "stream",
          "name": "stdout",
          "text": [
            "(9, 1)\n"
          ]
        }
      ]
    },
    {
      "cell_type": "code",
      "source": [
        "#(2) MINMAX --ITTERATION\n",
        "def minmax(arr):\n",
        "  if len(arr)==1:\n",
        "    return arr[0],arr[0]\n",
        "  else:\n",
        "    min=arr[0]\n",
        "    max=arr[0]\n",
        "    for i in range(len(arr)):\n",
        "      if min<arr[i]:\n",
        "        min=arr[i]\n",
        "      if max>arr[i]:\n",
        "        max=arr[i]\n",
        "    return max,min\n",
        "arr=[1,2,3,4,5,6,7,10,9]\n",
        "print(minmax(arr))\n"
      ],
      "metadata": {
        "colab": {
          "base_uri": "https://localhost:8080/"
        },
        "id": "psXeHypx7J-5",
        "outputId": "b4eead2b-9553-46e4-e0f3-9b11216a6642"
      },
      "execution_count": 2,
      "outputs": [
        {
          "output_type": "stream",
          "name": "stdout",
          "text": [
            "(1, 10)\n"
          ]
        }
      ]
    },
    {
      "cell_type": "code",
      "source": [
        "#(3) RANDOMIZED QUICKSORT\n",
        "import random\n",
        "def quicksort(a,l,h):\n",
        "  if l>=h:\n",
        "    return\n",
        "  pi=random.randint(l,h)\n",
        "  pv=a[pi]\n",
        "  a[pi],a[h]=a[h],a[pi]\n",
        "  i=l\n",
        "  for j in range(l,h):\n",
        "    if a[j]<=pv:\n",
        "      a[i],a[j]=a[j],a[i]\n",
        "      i+=1\n",
        "  a[i],a[h]=a[h],a[i]\n",
        "  quicksort(a,l,i-1)\n",
        "  quicksort(a,i+1,h)\n",
        "a=[1,12,3,0,9,1]\n",
        "quicksort(a,0,len(a)-1)\n",
        "print(a)"
      ],
      "metadata": {
        "id": "i8Mkd_kd8F7W",
        "colab": {
          "base_uri": "https://localhost:8080/"
        },
        "outputId": "c0f5463d-afa7-4f36-c2a1-6c896f5582b6"
      },
      "execution_count": 3,
      "outputs": [
        {
          "output_type": "stream",
          "name": "stdout",
          "text": [
            "[0, 1, 1, 3, 9, 12]\n"
          ]
        }
      ]
    },
    {
      "cell_type": "code",
      "source": [
        "#(4) FIBONACCI (RECURSION)\n",
        "def fib_r(k):\n",
        "  if k==0:\n",
        "    return 0\n",
        "  elif k==1:\n",
        "    return 1\n",
        "  else:\n",
        "    return fib_r(k-1)+fib_r(k-2)\n",
        "n=10\n",
        "print(\"Recursive Fibonacci:\", [fib_r(i) for i in range(n)])\n"
      ],
      "metadata": {
        "colab": {
          "base_uri": "https://localhost:8080/"
        },
        "id": "X2BHF1Rd-fwX",
        "outputId": "e96ea3c0-c14e-468d-be7f-7fe5d88bbea2"
      },
      "execution_count": 4,
      "outputs": [
        {
          "output_type": "stream",
          "name": "stdout",
          "text": [
            "Recursive Fibonacci: [0, 1, 1, 2, 3, 5, 8, 13, 21, 34]\n"
          ]
        }
      ]
    },
    {
      "cell_type": "code",
      "source": [
        "#(5) FIBONACII (ITTERATION)\n",
        "def fib_i(n):\n",
        "  if n==0:\n",
        "    return 0\n",
        "  elif n==1:\n",
        "    return 1\n",
        "  else:\n",
        "    a,b=0,1\n",
        "    for i in range(2,n+1):\n",
        "      a,b=b,a+b\n",
        "    return b\n",
        "n=10\n",
        "print(\"Iterative Fibonacci:\", [fib_i(i) for i in range(n)])"
      ],
      "metadata": {
        "colab": {
          "base_uri": "https://localhost:8080/"
        },
        "id": "qELr4kpw_SM0",
        "outputId": "394c124d-5b09-4fdc-b606-a20f80e4b5f5"
      },
      "execution_count": 5,
      "outputs": [
        {
          "output_type": "stream",
          "name": "stdout",
          "text": [
            "Iterative Fibonacci: [0, 1, 1, 2, 3, 5, 8, 13, 21, 34]\n"
          ]
        }
      ]
    },
    {
      "cell_type": "code",
      "source": [
        "#(6) KNAPSACK --(GREDDY)\n",
        "def knapsack(n,m,p,w):\n",
        "    wr=[]\n",
        "    x=[0]*n\n",
        "    for i in range(n):\n",
        "        wr.append(p[i]/w[i])\n",
        "    while m>0:\n",
        "        for i in range(n):\n",
        "            if wr[i]==max(wr):\n",
        "                Max=i\n",
        "                wr[Max]=0\n",
        "                break\n",
        "        if w[Max]<=m:\n",
        "            m=m-w[Max]\n",
        "            x[Max]=1\n",
        "        else:\n",
        "            temp=m/w[Max]\n",
        "            m=0\n",
        "            x[Max]=temp\n",
        "    print(\"Solution vector:\",x)\n",
        "    result=0\n",
        "    for i in range(n):\n",
        "        result+=x[i]*p[i]\n",
        "    print(\"Optimal solution\",result)\n",
        "n=4\n",
        "m=10\n",
        "p=[24,18,18,10]\n",
        "w=[5,4,3,2]\n",
        "knapsack(n,m,p,w)"
      ],
      "metadata": {
        "colab": {
          "base_uri": "https://localhost:8080/"
        },
        "id": "JPocj3yZOt_R",
        "outputId": "edc33dff-28e4-4039-b126-c94d742364d7"
      },
      "execution_count": 12,
      "outputs": [
        {
          "output_type": "stream",
          "name": "stdout",
          "text": [
            "Solution vector: [1, 0, 1, 1]\n",
            "Optimal solution 52\n"
          ]
        }
      ]
    },
    {
      "cell_type": "code",
      "source": [
        "#(7) HUFFMAN CODE (GREDDY)\n",
        "string = 'BCAADDDCCACACAC'\n",
        "class NodeTree(object):\n",
        "    def __init__(self, left=None, right=None):\n",
        "        self.left = left\n",
        "        self.right = right\n",
        "    def children(self):\n",
        "        return (self.left, self.right)\n",
        "    def nodes(self):\n",
        "        return (self.left, self.right)\n",
        "    def __str__(self):\n",
        "        return '%s_%s' % (self.left, self.right)\n",
        "def huf_code(node,left=True,binString=''):\n",
        "  if type(node) is str:\n",
        "    return {node:binString}\n",
        "  (l,r)=node.children()\n",
        "  d=dict()\n",
        "  d.update(huf_code(l,True,binString+'0'))\n",
        "  d.update(huf_code(r,False,binString+'1'))\n",
        "  return d\n",
        "freq={}\n",
        "for c in string:\n",
        "  if c in freq:\n",
        "    freq[c]+=1\n",
        "  else:\n",
        "    freq[c]=1\n",
        "freq=sorted(freq.items(),key=lambda x:x[1],reverse=True)\n",
        "nodes=freq\n",
        "while len(nodes)>1:\n",
        "  (key1,c1)=nodes[-1]\n",
        "  (key2,c2)=nodes[-2]\n",
        "  nodes=nodes[:-2]\n",
        "  node=NodeTree(key1,key2)\n",
        "  nodes.append((node,c1+c2))\n",
        "  nodes=sorted(nodes,key=lambda x:x[1],reverse=True)\n",
        "huffmanCode=huf_code(nodes[0][0])\n",
        "print(' Char | Huffman code ')\n",
        "print('----------------------')\n",
        "for (char, frequency) in freq:\n",
        "    print(' %-4r |%12s' % (char, huffmanCode[char]))"
      ],
      "metadata": {
        "colab": {
          "base_uri": "https://localhost:8080/"
        },
        "id": "BDcV-uWyVIvA",
        "outputId": "f043254c-b848-4c41-d412-ac4bed2a1e3d"
      },
      "execution_count": 14,
      "outputs": [
        {
          "output_type": "stream",
          "name": "stdout",
          "text": [
            " Char | Huffman code \n",
            "----------------------\n",
            " 'C'  |           0\n",
            " 'A'  |          11\n",
            " 'D'  |         101\n",
            " 'B'  |         100\n"
          ]
        }
      ]
    },
    {
      "cell_type": "code",
      "source": [
        "# (8) JOB SEQUENCE\n",
        "def job(n,p):\n",
        "  if n==0:\n",
        "    return 0\n",
        "  elif n==1:\n",
        "    return p[0][0]\n",
        "  else:\n",
        "    p.sort(key=lambda x:x[0])\n",
        "    p=p[::-1]\n",
        "    max_t=max(p,key=lambda x:x[1])[1]\n",
        "    r=[None]*max_t\n",
        "    for i in range(n):\n",
        "      t=p[i][1]\n",
        "      while t>0:\n",
        "        if r[t-1] is None:\n",
        "          r[t-1]=p[i]\n",
        "          break\n",
        "        else:\n",
        "          t=t-1\n",
        "    return r\n",
        "n=9\n",
        "p=[[15,7],[20,2],[30,5],[18,3],[18,4],[10,5],[23,2],[16,7],[25,3]]\n",
        "a=job(n,p)\n",
        "print(\"Solution vector\",a)\n",
        "sum=0\n",
        "for i in range(len(a)):\n",
        "    sum+=a[i][0]\n",
        "print(\"Optimal Solution \",sum)\n"
      ],
      "metadata": {
        "id": "kjLEOeODLgPT",
        "colab": {
          "base_uri": "https://localhost:8080/"
        },
        "outputId": "f6948f44-acaa-409a-d341-7af891285ca4"
      },
      "execution_count": 5,
      "outputs": [
        {
          "output_type": "stream",
          "name": "stdout",
          "text": [
            "Solution vector [[20, 2], [23, 2], [25, 3], [18, 4], [30, 5], [15, 7], [16, 7]]\n",
            "Optimal Solution  147\n"
          ]
        }
      ]
    },
    {
      "cell_type": "code",
      "source": [
        "# (9) 0/1 KNAPSACK\n",
        "def knapsack(n,p,m):\n",
        "  x=[0]*n\n",
        "  p.sort(key=lambda x:x[1])\n",
        "  p=p[::-1]\n",
        "  print(p)\n",
        "  for i in range(n):\n",
        "      if m>=p[i][1]:\n",
        "        m=m-p[i][1]\n",
        "        x[i]=1\n",
        "      else:\n",
        "        x[i]=0\n",
        "  print(\"Solution vector\",x)\n",
        "  result=0\n",
        "  for i in range(n):\n",
        "    result+=x[i]*p[i][0]\n",
        "  print(\"Optimal solution\",result)\n",
        "n=3\n",
        "m=20\n",
        "p=[[25,18],[24,15],[15,10]]\n",
        "knapsack(n,p,m)"
      ],
      "metadata": {
        "colab": {
          "base_uri": "https://localhost:8080/"
        },
        "id": "7WzVnhkA9s1D",
        "outputId": "6eafef86-fee6-4ff6-a260-c574f83473b3"
      },
      "execution_count": 32,
      "outputs": [
        {
          "output_type": "stream",
          "name": "stdout",
          "text": [
            "[[25, 18], [24, 15], [15, 10]]\n",
            "Solution vector [1, 0, 0]\n",
            "Optimal solution 25\n"
          ]
        }
      ]
    },
    {
      "cell_type": "code",
      "source": [
        "#(10) TRAVELLING SALES PERSON\n",
        "def travelling_salesman(graph, s):\n",
        "    n = len(graph)\n",
        "    dp = [[float('inf')] * n for _ in range(1 << n)]\n",
        "    dp[1 << s][s] = 0\n",
        "    for mask in range(1 << n):\n",
        "        for u in range(n):\n",
        "            if (mask >> u) & 1:\n",
        "                for v in range(n):\n",
        "                    if not (mask >> v) & 1:\n",
        "                        new_mask = mask | (1 << v)\n",
        "                        dp[new_mask][v] = min(dp[new_mask][v], dp[mask][u] + graph[u][v])\n",
        "    min_cost = float('inf')\n",
        "    for i in range(n):\n",
        "        if i != s:\n",
        "            min_cost = min(min_cost, dp[(1 << n) - 1][i] + graph[i][s])\n",
        "    return min_cost\n",
        "graph = [[0, 10, 15, 20],\n",
        "         [5, 0, 9, 10],\n",
        "         [6, 13, 0, 12],\n",
        "         [8, 8, 9, 0]]\n",
        "print(\"The minimum cost of visiting all nodes is:\", travelling_salesman(graph, 0))\n"
      ],
      "metadata": {
        "colab": {
          "base_uri": "https://localhost:8080/"
        },
        "id": "_ua-ief99slN",
        "outputId": "95bde8f1-d3e3-45e2-e0d8-67abc7c549cc"
      },
      "execution_count": 18,
      "outputs": [
        {
          "output_type": "stream",
          "name": "stdout",
          "text": [
            "The minimum cost of visiting all nodes is: 35\n"
          ]
        }
      ]
    },
    {
      "cell_type": "code",
      "source": [
        "#(11) MATRIX CHAIN MULTIPLICATION\n",
        "\n",
        "def matrix_chain_order(p):\n",
        "    n = len(p) - 1\n",
        "    m = [[0] * n for _ in range(n)]  # Initialize m with zeros\n",
        "    s = [[0] * n for _ in range(n)]  # Initialize s with zeros\n",
        "    for l in range(2, n + 1):\n",
        "        for i in range(n - l + 1):\n",
        "            j = i + l - 1\n",
        "            m[i][j] = float('inf')\n",
        "            for k in range(i, j):\n",
        "                q = m[i][k] + m[k + 1][j] + p[i] * p[k + 1] * p[j + 1]\n",
        "                if q < m[i][j]:\n",
        "                    m[i][j] = q\n",
        "                    s[i][j] = k\n",
        "    return m, s\n",
        "def print_optimal_parens(s, i, j):\n",
        "    if i == j:\n",
        "        print(f'A{i + 1}', end='')\n",
        "    else:\n",
        "        print('(', end='')\n",
        "        print_optimal_parens(s, i, s[i][j])\n",
        "        print_optimal_parens(s, s[i][j] + 1, j)\n",
        "        print(')', end='')\n",
        "p = [5, 4, 6, 2, 7]\n",
        "m, s = matrix_chain_order(p)\n",
        "for row in m:\n",
        "    print(row)\n",
        "for i in s:\n",
        "    print(i)\n",
        "print('\\nOptimal Parenthesization: ')\n",
        "print_optimal_parens(s, 0, len(p) - 2)"
      ],
      "metadata": {
        "id": "19ufnbhnDz8o",
        "colab": {
          "base_uri": "https://localhost:8080/"
        },
        "outputId": "9777c049-b1d2-4a91-b4e9-3bbbabd5d276"
      },
      "execution_count": 33,
      "outputs": [
        {
          "output_type": "stream",
          "name": "stdout",
          "text": [
            "[0, 120, 88, 158]\n",
            "[0, 0, 48, 104]\n",
            "[0, 0, 0, 84]\n",
            "[0, 0, 0, 0]\n",
            "[0, 0, 0, 2]\n",
            "[0, 0, 1, 2]\n",
            "[0, 0, 0, 2]\n",
            "[0, 0, 0, 0]\n",
            "\n",
            "Optimal Parenthesization: \n",
            "((A1(A2A3))A4)"
          ]
        }
      ]
    },
    {
      "cell_type": "code",
      "source": [
        "# (12) LCSSEQUENCE\n",
        "def lcs(s1,s2):\n",
        "  m=len(s1)\n",
        "  n=len(s2)\n",
        "  dp=[[0 for _ in range(n+1)]for _ in range(m+1)]\n",
        "  for i in range(1,m+1):\n",
        "    for j in range(1,n+1):\n",
        "      if s1[i-1]==s2[j-1]:\n",
        "        dp[i][j]=dp[i-1][j-1]+1\n",
        "      else:\n",
        "        dp[i][j]=max(dp[i-1][j],dp[i][j-1])\n",
        "  lcs=[]\n",
        "  i=m\n",
        "  j=n\n",
        "  while i>0 and j>0:\n",
        "    if s1[i-1]==s2[j-1]:\n",
        "      lcs.append(s1[i-1])\n",
        "      i-=1\n",
        "      j-=1\n",
        "    elif dp[i-1][j]>dp[i][j-1]:\n",
        "      i-=1\n",
        "    else:\n",
        "      j-=1\n",
        "  lcs.reverse()\n",
        "  return ''.join(lcs)\n",
        "\n",
        "s1 = \"ABCB\"\n",
        "s2 = \"DBACB\"\n",
        "print(f\"The Longest Common Subsequence is: {lcs(s1, s2)}\")\n",
        "print(\"LENGTH OF LCS IS: \", len(lcs(s1, s2)))"
      ],
      "metadata": {
        "colab": {
          "base_uri": "https://localhost:8080/"
        },
        "id": "dw4I7xj6GBaX",
        "outputId": "ec5a93d1-c9ea-45e5-d259-657199230d70"
      },
      "execution_count": 13,
      "outputs": [
        {
          "output_type": "stream",
          "name": "stdout",
          "text": [
            "The Longest Common Subsequence is: BCB\n",
            "LENGTH OF LCS IS:  3\n"
          ]
        }
      ]
    },
    {
      "cell_type": "code",
      "source": [
        "# (13) OBST\n",
        "def sum(f,i,j):\n",
        "  s=0\n",
        "  for k in range(i,j+1):\n",
        "    s+=f[k]\n",
        "  return s\n",
        "def optcost(f,i,j):\n",
        "  if j<i:\n",
        "    return 0\n",
        "  elif j==i:\n",
        "    return f[i]\n",
        "  else:\n",
        "    freqsum=sum(f,i,j)\n",
        "    min_val=float('inf')\n",
        "    for r in range(i,j+1):\n",
        "      cost=optcost(f,i,r-1)+optcost(f,r+1,j)\n",
        "      min_val=min(min_val,cost)\n",
        "    return min_val+freqsum\n",
        "def obst(keys,f):\n",
        "  n=len(keys)\n",
        "  return optcost(f,0,n-1)\n",
        "keys = [10, 12, 20]\n",
        "freq = [34, 8, 50]\n",
        "print(obst(keys,freq))"
      ],
      "metadata": {
        "colab": {
          "base_uri": "https://localhost:8080/"
        },
        "id": "PuGRZpcEGBju",
        "outputId": "366d6064-be6a-44dc-d9a9-e2ff9b13c111"
      },
      "execution_count": 17,
      "outputs": [
        {
          "output_type": "stream",
          "name": "stdout",
          "text": [
            "142\n"
          ]
        }
      ]
    },
    {
      "cell_type": "code",
      "source": [
        "# (14) NQUEEENS\n",
        "def is_safe(n,board,row,col):\n",
        "  for i in range(row):\n",
        "    if board[i]==col  or  board[i]-i==col-row or board[i]+i==col+row:\n",
        "      return False\n",
        "  return True\n",
        "def n_queen(n,board,row):\n",
        "  if row==n:\n",
        "    return [board[:]]\n",
        "  else:\n",
        "    solutions=[]\n",
        "    for col in range(n):\n",
        "      if is_safe(n,board,row,col):\n",
        "        board[row]=col\n",
        "        solutions.extend(n_queen(n,board,row+1))\n",
        "    return solutions\n",
        "def solve(n):\n",
        "  board=[-1]*n\n",
        "  return n_queen(n,board,0)\n",
        "n=4\n",
        "solutions=solve(n)\n",
        "# Print each solution\n",
        "for solution in solutions:\n",
        "    for row in solution:\n",
        "        print(\"\".join(['q' if row == col else '-' for col in range(n)]))\n",
        "    print()"
      ],
      "metadata": {
        "id": "ecg5LBBKGCqE"
      },
      "execution_count": null,
      "outputs": []
    },
    {
      "cell_type": "code",
      "source": [
        "#(15) STRASSENS\n",
        "import numpy as np\n",
        "def strassness(a, b):\n",
        "    n = a.shape[0]\n",
        "    if n == 1:\n",
        "        return a * b\n",
        "    mid = n // 2\n",
        "    a11, a12, a21, a22 = a[:mid, :mid], a[:mid, mid:], a[mid:, :mid], a[mid:, mid:]\n",
        "    b11, b12, b21, b22 = b[:mid, :mid], b[:mid, mid:], b[mid:, :mid], b[mid:, mid:]\n",
        "    m1 = strassness(a11+a22,b11+b22)\n",
        "    m2 = strassness(a21+a22,b11)\n",
        "    m3 = strassness(a11,b12-b22)\n",
        "    m4 = strassness(a22,b21-b11)\n",
        "    m5 = strassness(a11+a12,b22)\n",
        "    m6 = strassness(a21+a11,b11+b12)\n",
        "    m7 = strassness(a12+a22,b21+b22)\n",
        "    c11 = m1 + m4 - m5 + m7\n",
        "    c12 = m3 + m5\n",
        "    c21 = m2 + m4\n",
        "    c22 = m1 - m2 + m3 + m6\n",
        "\n",
        "    c = np.vstack((np.hstack((c11, c12)), np.hstack((c21, c22))))\n",
        "    return c\n",
        "a=[1,4,2,3]\n",
        "b=[4,5,2,8]\n",
        "a=np.array(a).reshape(2,2)\n",
        "b=np.array(b).reshape(2,2)\n",
        "print(strassness(a,b))\n",
        "import time\n",
        "start_time = time.time()\n",
        "print(\"Time taken: \", time.time())"
      ],
      "metadata": {
        "colab": {
          "base_uri": "https://localhost:8080/"
        },
        "id": "EUA_jLS3E7z_",
        "outputId": "5503140d-be37-43e0-f794-5fe0c9f25d46"
      },
      "execution_count": 34,
      "outputs": [
        {
          "output_type": "stream",
          "name": "stdout",
          "text": [
            "[[72 37]\n",
            " [14 52]]\n",
            "Time taken:  1748170603.139712\n"
          ]
        }
      ]
    },
    {
      "cell_type": "code",
      "source": [
        "# (16) HAMILTONIAN CYCLE\n",
        "def is_valid(v,pos,path,graph):\n",
        "  if graph[path[pos-1]][v]==0:\n",
        "    return False\n",
        "  if v in path:\n",
        "    return False\n",
        "  return True\n",
        "def ham_util(graph,path,pos):\n",
        "  n=len(graph)\n",
        "  if n==pos:\n",
        "    return graph[path[pos - 1]][path[0]] == 1\n",
        "  for i in range(1,n):\n",
        "    if is_valid(i,pos,path,graph):\n",
        "      path[pos]=i\n",
        "      if ham_util(graph,path,pos+1):\n",
        "        return True\n",
        "      path[pos]=-1\n",
        "  return False\n",
        "def ham(graph):\n",
        "  n=len(graph)\n",
        "  path=[-1]*n\n",
        "  path[0]=0\n",
        "  if not ham_util(graph,path,1):\n",
        "    print(\"Solution does not exist\")\n",
        "    return\n",
        "  for i in range(n):\n",
        "    print(path[i],end=\" \")\n",
        "  print(path[0])\n",
        "graph = [[0, 1, 1, 1, 0,0],\n",
        "    [1, 0, 1, 0, 1,0],\n",
        "    [1, 1, 0, 1, 1,0],\n",
        "    [1, 0, 1, 0, 1,1],\n",
        "    [0, 1, 1, 1, 0,1],\n",
        "    [0,0,0,1,1,0]]\n",
        "ham(graph)"
      ],
      "metadata": {
        "colab": {
          "base_uri": "https://localhost:8080/"
        },
        "id": "rH6zIhsLGHv0",
        "outputId": "2704574f-ccae-4810-e73c-a2e06ad36f08"
      },
      "execution_count": 22,
      "outputs": [
        {
          "output_type": "stream",
          "name": "stdout",
          "text": [
            "0 1 2 4 5 3 0\n"
          ]
        }
      ]
    },
    {
      "cell_type": "code",
      "source": [
        "# (17) GRAPH COLOURING\n",
        "def graph_coloring(graph, k):\n",
        "    num_vertices = len(graph)\n",
        "    vertices = list(graph.keys())\n",
        "    color = {v: 0 for v in vertices}\n",
        "    def is_safe(vertex, c):\n",
        "        for neighbor in graph.get(vertex, []):\n",
        "            if color[neighbor] == c:\n",
        "                return False\n",
        "        return True\n",
        "    def graph_coloring_util(vertex_index):\n",
        "        if vertex_index == num_vertices:\n",
        "            return True\n",
        "        vertex = vertices[vertex_index]\n",
        "        for color_index in range(1, k + 1):\n",
        "            if is_safe(vertex, color_index):\n",
        "                color[vertex] = color_index\n",
        "                if graph_coloring_util(vertex_index + 1):\n",
        "                    return True\n",
        "                color[vertex] = 0\n",
        "        return False\n",
        "    if graph_coloring_util(0):\n",
        "        print(f\"Graph can be colored with {k} colors.\")\n",
        "        print(\"Color assignment:\")\n",
        "        for v, c in color.items():\n",
        "            print(f\"Vertex {v}: Color {c}\")\n",
        "        return color\n",
        "    else:\n",
        "        print(f\"Graph cannot be colored with {k} colors.\")\n",
        "        return None\n",
        "adjacency_matrix = [\n",
        "    [0, 1, 0, 1],\n",
        "    [1, 0, 1, 0],\n",
        "    [0, 1, 0, 1],\n",
        "    [1, 0, 1, 0]]\n",
        "graph_dict = {i: [j for j, connected in enumerate(row) if connected] for i, row in enumerate(adjacency_matrix)}\n",
        "k1 = 2\n",
        "coloring1 = graph_coloring(graph_dict, k1)\n",
        "print(\"-\" * 20)"
      ],
      "metadata": {
        "id": "Exf0P2l9s2cg"
      },
      "execution_count": null,
      "outputs": []
    },
    {
      "cell_type": "code",
      "source": [
        "# (18) 0/1 KNAPSACK -- FIFO\n",
        "from queue import Queue\n",
        "# Define an Item class to represent each item in the knapsack\n",
        "class Item:\n",
        "    def __init__(self, weight, value):\n",
        "        self.weight = weight\n",
        "        self.value = value\n",
        "# Define a Node class to represent each node in the branch and bound tree\n",
        "class Node:\n",
        "    def __init__(self, level, profit, bound, weight):\n",
        "        self.level = level\n",
        "        self.profit = profit\n",
        "        self.bound = bound\n",
        "        self.weight = weight\n",
        "# Function to calculate the maximum possible profit for a given node\n",
        "def bound(u, n, W, arr):\n",
        "    if u.weight >= W:\n",
        "        return 0\n",
        "    profitBound = u.profit\n",
        "    j = u.level + 1\n",
        "    totWeight = u.weight\n",
        "    while j < n and totWeight + arr[j].weight <= W:\n",
        "        totWeight += arr[j].weight\n",
        "        profitBound += arr[j].value\n",
        "        j += 1\n",
        "    if j < n:\n",
        "        profitBound += (W - totWeight) * (arr[j].value / arr[j].weight)\n",
        "    return profitBound\n",
        "# Function to solve the 0-1 Knapsack problem using Branch and Bound\n",
        "def knapsack_solution(W, arr, n):\n",
        "    # Sort items in descending order based on value-to-weight ratio\n",
        "    arr.sort(key=lambda x: x.value / x.weight, reverse=True)\n",
        "    # Initialize a queue for BFS\n",
        "    q = Queue()\n",
        "    u = Node(-1, 0, 0, 0)\n",
        "    q.put(u)\n",
        "    maxProfit = 0\n",
        "    while not q.empty():\n",
        "        u = q.get()\n",
        "        if u.level == -1:\n",
        "            v = Node(0, 0, 0, 0)\n",
        "        if u.level == n - 1:\n",
        "            continue\n",
        "        v = Node(u.level + 1, u.profit + arr[u.level + 1].value, 0, u.weight + arr[u.level + 1].weight)\n",
        "        if v.weight <= W and v.profit > maxProfit:\n",
        "            maxProfit = v.profit\n",
        "        v.bound = bound(v, n, W, arr)\n",
        "        if v.bound > maxProfit:\n",
        "            q.put(v)\n",
        "        v = Node(u.level + 1, u.profit, 0, u.weight)\n",
        "        v.bound = bound(v, n, W, arr)\n",
        "        if v.bound > maxProfit:\n",
        "            q.put(v)\n",
        "    return maxProfit\n",
        "# Driver Code\n",
        "if __name__ == '__main__':\n",
        "    W = 10\n",
        "    arr = [Item(2, 40), Item(3.14, 50), Item(1.98, 100), Item(5, 95), Item(3, 30)]\n",
        "    n = len(arr)\n",
        "    print('Maximum possible profit =', knapsack_solution(W, arr, n))"
      ],
      "metadata": {
        "id": "raohCem0FSD0"
      },
      "execution_count": null,
      "outputs": []
    },
    {
      "cell_type": "code",
      "source": [
        "#(18) BICONNECTED\n",
        "class Graph:\n",
        "    def __init__(self, n):\n",
        "        self.n = n\n",
        "        self.adj = [[] for _ in range(n)]\n",
        "\n",
        "    def addEdge(self, u, v):\n",
        "        self.adj[u].append(v)\n",
        "        self.adj[v].append(u)\n",
        "\n",
        "def biconnected_components_and_articulation_points(graph):\n",
        "    n = graph.n\n",
        "    disc = [-1] * n\n",
        "    low = [-1] * n\n",
        "    stack = []\n",
        "    bcc_list = []\n",
        "    articulation_points = set()\n",
        "    time_counter = [0]\n",
        "\n",
        "    def dfs(u, parent):\n",
        "        disc[u] = time_counter[0]\n",
        "        low[u] = time_counter[0]\n",
        "        time_counter[0] += 1\n",
        "        children_count = 0\n",
        "\n",
        "        for v in graph.adj[u]:\n",
        "            if v == parent:\n",
        "                continue\n",
        "            if disc[v] == -1:\n",
        "                children_count += 1\n",
        "                stack.append((u, v))\n",
        "                dfs(v, u)\n",
        "                low[u] = min(low[u], low[v])\n",
        "\n",
        "                # Articulation point logic\n",
        "                if parent != -1 and low[v] >= disc[u]:\n",
        "                    articulation_points.add(u)\n",
        "\n",
        "                # Biconnected component logic\n",
        "                if low[v] >= disc[u]:\n",
        "                    bcc = []\n",
        "                    while stack and stack[-1] != (u, v):\n",
        "                        bcc.append(stack.pop())\n",
        "                    bcc.append(stack.pop())\n",
        "                    bcc_list.append(bcc)\n",
        "            elif disc[v] < disc[u]:\n",
        "                low[u] = min(low[u], disc[v])\n",
        "                stack.append((u, v))\n",
        "\n",
        "        # Root of DFS tree is an articulation point if it has two or more children\n",
        "        if parent == -1 and children_count > 1:\n",
        "            articulation_points.add(u)\n",
        "    # Perform DFS for all vertices\n",
        "    for i in range(n):\n",
        "        if disc[i] == -1:\n",
        "            dfs(i, -1)\n",
        "            # Add remaining edges in the stack as a component\n",
        "            if stack:\n",
        "                bcc = []\n",
        "                while stack:\n",
        "                    bcc.append(stack.pop())\n",
        "                bcc_list.append(bcc)\n",
        "\n",
        "    return bcc_list, articulation_points\n",
        "if __name__ == \"__main__\":\n",
        "    g1 = Graph(7)\n",
        "    g1.addEdge(1, 4)\n",
        "    g1.addEdge(1, 2)\n",
        "    g1.addEdge(4, 3)\n",
        "    g1.addEdge(2, 3)\n",
        "    g1.addEdge(3, 5)\n",
        "    g1.addEdge(3, 6)\n",
        "    bccs, art_points = biconnected_components_and_articulation_points(g1)\n",
        "    print(\"Biconnected Components (each as a list of edges):\")\n",
        "    for idx, comp in enumerate(bccs, start=1):\n",
        "        print(f\"Component {idx}: {comp}\")\n",
        "    print(\"\\nArticulation Points:\")\n",
        "    for point in art_points:\n",
        "        print(f\"Vertex {point}\")"
      ],
      "metadata": {
        "id": "xn4ovdYoF3jO"
      },
      "execution_count": null,
      "outputs": []
    },
    {
      "cell_type": "code",
      "source": [
        "#(20) KOSARAJ\n",
        "from collections import defaultdict\n",
        "class DirectedGraph:\n",
        "    def __init__(self, N):\n",
        "        self.N = N\n",
        "        self.adj = defaultdict(list)\n",
        "    def add_edge(self, a, d):\n",
        "        self.adj[a].append(d)\n",
        "    def _dfs(self, a, visited):\n",
        "        visited[a] = True\n",
        "        print(a, end=' ')\n",
        "        for i in self.adj[a]:\n",
        "            if not visited[i]:\n",
        "                self._dfs(i, visited)\n",
        "    def _fill_order(self, a, visited, stack):\n",
        "        visited[a] = True\n",
        "        for i in self.adj[a]:\n",
        "            if not visited[i]:\n",
        "                self._fill_order(i, visited, stack)\n",
        "        stack.append(a)\n",
        "    def _transpose(self):\n",
        "        graph = DirectedGraph(self.N)\n",
        "        for a in range(self.N):\n",
        "            for i in self.adj[a]:\n",
        "                graph.adj[i].append(a)\n",
        "        return graph\n",
        "    def print_strongly_connected_components(self):\n",
        "        stack = []\n",
        "        visited = [False] * self.N\n",
        "        for i in range(self.N):\n",
        "            if not visited[i]:\n",
        "                self._fill_order(i, visited, stack)\n",
        "        transposed_graph = self._transpose()\n",
        "        visited = [False] * self.N\n",
        "        while stack:\n",
        "            a = stack.pop()\n",
        "            if not visited[a]:\n",
        "                transposed_graph._dfs(a, visited)\n",
        "                print()\n",
        "# Main execution\n",
        "if __name__ == \"__main__\":\n",
        "    graph = DirectedGraph(8)\n",
        "    graph.add_edge(0, 1)\n",
        "    graph.add_edge(1, 2)\n",
        "    graph.add_edge(2, 3)\n",
        "    graph.add_edge(2, 4)\n",
        "    graph.add_edge(3, 0)\n",
        "    graph.add_edge(4, 5)\n",
        "    graph.add_edge(5, 6)\n",
        "    graph.add_edge(6, 4)\n",
        "    graph.add_edge(6, 7)\n",
        "    print(\"The Strongly Connected Components of the Graph:\")\n",
        "    graph.print_strongly_connected_components()"
      ],
      "metadata": {
        "id": "i6U9q5HsGAUP"
      },
      "execution_count": null,
      "outputs": []
    },
    {
      "cell_type": "code",
      "source": [
        "#(21) TARJANS\n",
        "from collections import defaultdict\n",
        "class DirectedGraph:\n",
        "    def __init__(self, N):\n",
        "        self.N = N\n",
        "        self.graph = defaultdict(list)\n",
        "        self.index = 0\n",
        "        self.stack = []\n",
        "        self.on_stack = [False] * N\n",
        "        self.indices = [-1] * N\n",
        "        self.lowlink = [-1] * N\n",
        "        self.SCCs = []\n",
        "    def add_edge(self, u, v):\n",
        "        self.graph[u].append(v)\n",
        "    def _strongconnect(self, v):\n",
        "        self.indices[v] = self.index\n",
        "        self.lowlink[v] = self.index\n",
        "        self.index += 1\n",
        "        self.stack.append(v)\n",
        "        self.on_stack[v] = True\n",
        "        for w in self.graph[v]:\n",
        "            if self.indices[w] == -1:\n",
        "                self._strongconnect(w)\n",
        "                self.lowlink[v] = min(self.lowlink[v], self.lowlink[w])\n",
        "            elif self.on_stack[w]:\n",
        "                self.lowlink[v] = min(self.lowlink[v], self.indices[w])\n",
        "        # If v is a root node, pop the stack and generate an SCC\n",
        "        if self.lowlink[v] == self.indices[v]:\n",
        "            scc = []\n",
        "            while True:\n",
        "                w = self.stack.pop()\n",
        "                self.on_stack[w] = False\n",
        "                scc.append(w)\n",
        "                if w == v:\n",
        "                    break\n",
        "            self.SCCs.append(scc)\n",
        "    def tarjan_scc(self):\n",
        "        for v in range(self.N):\n",
        "            if self.indices[v] == -1:\n",
        "                self._strongconnect(v)\n",
        "        return self.SCCs\n",
        "if __name__ == \"__main__\":\n",
        "    graph = DirectedGraph(8)\n",
        "    graph.add_edge(0, 1)\n",
        "    graph.add_edge(1, 2)\n",
        "    graph.add_edge(2, 3)\n",
        "    graph.add_edge(3, 0)\n",
        "    graph.add_edge(2, 4)\n",
        "    graph.add_edge(4, 5)\n",
        "    graph.add_edge(5, 6)\n",
        "    graph.add_edge(6, 4)\n",
        "    graph.add_edge(6, 7)\n",
        "    sccs = graph.tarjan_scc()\n",
        "    print(\"The Strongly Connected Components of the Graph (Tarjan's Algorithm):\")\n",
        "    for scc in sccs:\n",
        "        print(scc)"
      ],
      "metadata": {
        "id": "KpscqS3jGF_X"
      },
      "execution_count": null,
      "outputs": []
    },
    {
      "cell_type": "code",
      "source": [
        "# (22) TOPOLOGICAL SORTING\n",
        "def topological_sort(graph):\n",
        "    # Helper function to perform DFS and mark nodes\n",
        "    def dfs(node):\n",
        "        if node in temp_visited:\n",
        "            return False  # If node is already in the current recursion stack, there's a cycle\n",
        "        if node in visited:\n",
        "            return True  # If node is already visited, no need to explore it\n",
        "        temp_visited.add(node)  # Mark the node as being visited\n",
        "        for neighbor in graph[node]:\n",
        "            if not dfs(neighbor):\n",
        "                return False  # If cycle is detected in the DFS of the neighbors, return False\n",
        "        temp_visited.remove(node)  # Remove from the recursion stack after processing the node\n",
        "        visited.add(node)  # Mark the node as fully processed\n",
        "        top_order.append(node)  # Add the node to the topological order\n",
        "        return True\n",
        "    visited = set()  # To keep track of visited nodes\n",
        "    temp_visited = set()  # To keep track of nodes in the current recursion stack (to detect cycles)\n",
        "    top_order = []  # To store the topological order\n",
        "    # Traverse each node in the graph\n",
        "    for node in graph:\n",
        "        if node not in visited:\n",
        "            if not dfs(node):\n",
        "                return \"Graph has a cycle!\"  # If a cycle is detected, return a message\n",
        "    return top_order[::-1]  # Reverse the topological order to get correct result\n",
        "# Example usage:\n",
        "graph = {\n",
        "    'A': ['B','C'],\n",
        "    'B': ['E','G'],\n",
        "    'C': ['F'],\n",
        "    'D': ['B','C','G','F'],\n",
        "    'E': [],\n",
        "    'F': [],\n",
        "    'G': ['E','F']\n",
        "}\n",
        "result = topological_sort(graph)\n",
        "print(result)"
      ],
      "metadata": {
        "id": "3Ea5OwmpGNFj"
      },
      "execution_count": null,
      "outputs": []
    },
    {
      "cell_type": "code",
      "source": [
        "#(23)TOPOLOGICAL SORTING -- SOURCE\n",
        "from collections import deque\n",
        "def topological_sort(graph):\n",
        "    # Step 1: Calculate in-degree (number of incoming edges) for each node\n",
        "    in_degree = {node: 0 for node in graph}  # Initialize in-degree to 0 for all nodes\n",
        "    for node in graph:\n",
        "        for neighbor in graph[node]:\n",
        "            in_degree[neighbor] += 1\n",
        "    # Step 2: Collect all nodes with no incoming edges (in-degree 0)\n",
        "    queue = deque([node for node in graph if in_degree[node] == 0])\n",
        "    top_order = []  # To store the topological order\n",
        "    while queue:\n",
        "        node = queue.popleft()\n",
        "        top_order.append(node)\n",
        "        # Step 3: Reduce in-degree of neighbors\n",
        "        for neighbor in graph[node]:\n",
        "            in_degree[neighbor] -= 1\n",
        "            if in_degree[neighbor] == 0:\n",
        "                queue.append(neighbor)\n",
        "    # If top_order doesn't contain all nodes, the graph has a cycle\n",
        "    if len(top_order) == len(graph):\n",
        "        return top_order\n",
        "    else:\n",
        "         return \"Graph has a cycle!\"\n",
        "# Example usage:\n",
        "graph = {\n",
        "    'A': ['C','B', 'D'],\n",
        "    'B':['E'],\n",
        "    'C':['E','F','G'],\n",
        "    'D':['C','F'],\n",
        "    'E':['G'],\n",
        "    'F':['G'],\n",
        "    'G':[]\n",
        "    }\n",
        "result = topological_sort(graph)\n",
        "print(result)"
      ],
      "metadata": {
        "id": "uJLhGNnGGvuR"
      },
      "execution_count": null,
      "outputs": []
    },
    {
      "cell_type": "code",
      "source": [
        "#(24) DIJAKSTRA\n",
        "def dijkstra(v, cost, n):\n",
        "    dist = [float('inf')] * n\n",
        "    s = [False] * n\n",
        "    dist[v] = 0\n",
        "    s[v] = True\n",
        "    for i in range(n):\n",
        "        dist[i] = cost[v][i]\n",
        "    dist[v] = 0\n",
        "    for _ in range(n - 1):\n",
        "        min_dist = float('inf')\n",
        "        u = -1\n",
        "        for j in range(n):\n",
        "            if not s[j] and dist[j] < min_dist:\n",
        "                min_dist = dist[j]\n",
        "                u = j\n",
        "        if u == -1:\n",
        "            break\n",
        "        s[u] = True\n",
        "        for w in range(n):\n",
        "            if not s[w] and dist[u] + cost[u][w] < dist[w]:\n",
        "                dist[w] = dist[u] + cost[u][w]\n",
        "    return dist\n",
        "graph = {\n",
        "    'A': {'B': 10, 'F': 3},\n",
        "    'B': {'C': 20},\n",
        "    'C': {'E': 5, 'D': 15},\n",
        "    'D': {'E': 12, 'G': 20},\n",
        "    'E': {'G': 7},\n",
        "    'F': {'G': 35},\n",
        "    'G': {}\n",
        "}\n",
        "nodes = list(graph.keys())\n",
        "n = len(nodes)\n",
        "cost_matrix = [[float('inf')] * n for _ in range(n)]\n",
        "\n",
        "for i, from_node in enumerate(nodes):\n",
        "    for j, to_node in enumerate(nodes):\n",
        "        if to_node in graph[from_node]:\n",
        "            cost_matrix[i][j] = graph[from_node][to_node]\n",
        "        if from_node == to_node:\n",
        "            cost_matrix[i][j] = 0\n",
        "start_node = input(\"Enter the starting node: \")\n",
        "if start_node not in nodes:\n",
        "    print(\"Invalid starting node. Please enter a valid node from the graph.\")\n",
        "else:\n",
        "    start_index = nodes.index(start_node)\n",
        "    shortest_distances = dijkstra(start_index, cost_matrix, n)\n",
        "    print(\"\\nShortest distances from node\", start_node)\n",
        "    for i, distance in enumerate(shortest_distances):\n",
        "        print(f\"{nodes[i]}: {distance}\")"
      ],
      "metadata": {
        "id": "KJKhSBNZJm5_"
      },
      "execution_count": null,
      "outputs": []
    },
    {
      "cell_type": "code",
      "source": [
        "#(25) BELLMANFORD\n",
        "def bellman_ford(num_vertices, edges, source):\n",
        "    INF = float('inf')\n",
        "    dist = [INF] * num_vertices\n",
        "    dist[source] = 0\n",
        "    for _ in range(num_vertices - 1):\n",
        "        for u, v, w in edges:\n",
        "            if dist[u] != INF and dist[u] + w < dist[v]:\n",
        "                dist[v] = dist[u] + w\n",
        "    has_negative_cycle = False\n",
        "    for u, v, w in edges:\n",
        "        if dist[u] != INF and dist[u] + w < dist[v]:\n",
        "            has_negative_cycle = True\n",
        "            break\n",
        "    return dist, has_negative_cycle\n",
        "if __name__ == \"__main__\":\n",
        "    edges_list = [\n",
        "        (0, 1, 2),\n",
        "        (0, 5, 3),\n",
        "        (0, 3, 5),\n",
        "        (1, 4, 1),\n",
        "        (2, 6, 4),\n",
        "        (2, 1, 7),\n",
        "        (3, 4, 3),\n",
        "        (4, 2, -3),\n",
        "        (4, 6, 3),\n",
        "        (5, 1, -4),\n",
        "        (6, 3, -1)\n",
        "    ]\n",
        "    num_vertices = max(max(u, v) for u, v, w in edges_list) + 1\n",
        "    distances, has_cycle = bellman_ford(num_vertices=num_vertices, edges=edges_list, source=0)\n",
        "    if has_cycle:\n",
        "        print(\"A negative-weight cycle is reachable from the source.\")\n",
        "    else:\n",
        "        print(\"Shortest distances from source 0:\")\n",
        "        for i, d in enumerate(distances):\n",
        "            print(f\"Distance to vertex {i}: {d}\")"
      ],
      "metadata": {
        "id": "HPg-wOedJuqc"
      },
      "execution_count": null,
      "outputs": []
    },
    {
      "cell_type": "code",
      "source": [
        "# (26) JHONSON\n",
        "def dijkstra(v, cost, n):\n",
        "    dist, visited = [float('inf')] * n, [False] * n\n",
        "    dist[v] = 0\n",
        "    for i in range(n): dist[i] = cost[v][i]\n",
        "    dist[v] = 0\n",
        "    for _ in range(n - 1):\n",
        "        u = min((i for i in range(n) if not visited[i]), key=lambda x: dist[x], default=-1)\n",
        "        if u == -1: break\n",
        "        visited[u] = True\n",
        "        for w in range(n):\n",
        "            if not visited[w] and dist[u] + cost[u][w] < dist[w]:\n",
        "                dist[w] = dist[u] + cost[u][w]\n",
        "    return dist\n",
        "\n",
        "def bellman_ford(v, edges):\n",
        "    dist = [float('inf')] * v\n",
        "    dist[-1] = 0\n",
        "    for _ in range(v - 1):\n",
        "        for u, w, cost in edges:\n",
        "            if dist[u] + cost < dist[w]:\n",
        "                dist[w] = dist[u] + cost\n",
        "    for u, w, cost in edges:\n",
        "        if dist[u] + cost < dist[w]:\n",
        "            return dist, True\n",
        "    return dist, False\n",
        "\n",
        "def johnsons_algorithm(graph):\n",
        "    nodes = list(graph)\n",
        "    idx = {node: i for i, node in enumerate(nodes)}\n",
        "    n = len(nodes)\n",
        "    edges = [(idx[u], idx[v], graph[u][v]) for u in graph for v in graph[u]]\n",
        "    for i in range(n): edges.append((n, i, 0))  # new vertex q\n",
        "\n",
        "    h, neg_cycle = bellman_ford(n + 1, edges)\n",
        "    if neg_cycle:\n",
        "        print(\"Graph contains a negative-weight cycle.\")\n",
        "        return\n",
        "\n",
        "    cost = [[float('inf')] * n for _ in range(n)]\n",
        "    for u in graph:\n",
        "        for v in graph[u]:\n",
        "            i, j = idx[u], idx[v]\n",
        "            cost[i][j] = graph[u][v] + h[i] - h[j]\n",
        "        cost[idx[u]][idx[u]] = 0\n",
        "\n",
        "    for i in range(n):\n",
        "        dist = dijkstra(i, cost, n)\n",
        "        print(f\"\\nFrom {nodes[i]}:\")\n",
        "        for j in range(n):\n",
        "            d = dist[j]\n",
        "            if d != float('inf'):\n",
        "                print(f\"To {nodes[j]}: {d - h[i] + h[j]}\")\n",
        "            else:\n",
        "                print(f\"To {nodes[j]}: Unreachable\")\n",
        "\n",
        "# Sample graph\n",
        "graph = {\n",
        "    'A': {'B': 10, 'F': 3},\n",
        "    'B': {'C': 20},\n",
        "    'C': {'E': 5, 'D': 15},\n",
        "    'D': {'E': 12, 'G': 20},\n",
        "    'E': {'G': 7},\n",
        "    'F': {'G': 35},\n",
        "    'G': {}\n",
        "}\n",
        "\n",
        "johnsons_algorithm(graph)\n"
      ],
      "metadata": {
        "colab": {
          "base_uri": "https://localhost:8080/"
        },
        "id": "EMRNiLNu1AK5",
        "outputId": "6e2fc11f-21a4-418f-a064-47ad70d76830"
      },
      "execution_count": 23,
      "outputs": [
        {
          "output_type": "stream",
          "name": "stdout",
          "text": [
            "\n",
            "From A:\n",
            "To A: 0\n",
            "To B: 10\n",
            "To C: 30\n",
            "To D: 45\n",
            "To E: 35\n",
            "To F: 3\n",
            "To G: 38\n",
            "\n",
            "From B:\n",
            "To A: Unreachable\n",
            "To B: 0\n",
            "To C: 20\n",
            "To D: 35\n",
            "To E: 25\n",
            "To F: Unreachable\n",
            "To G: 32\n",
            "\n",
            "From C:\n",
            "To A: Unreachable\n",
            "To B: Unreachable\n",
            "To C: 0\n",
            "To D: 15\n",
            "To E: 5\n",
            "To F: Unreachable\n",
            "To G: 12\n",
            "\n",
            "From D:\n",
            "To A: Unreachable\n",
            "To B: Unreachable\n",
            "To C: Unreachable\n",
            "To D: 0\n",
            "To E: 12\n",
            "To F: Unreachable\n",
            "To G: 19\n",
            "\n",
            "From E:\n",
            "To A: Unreachable\n",
            "To B: Unreachable\n",
            "To C: Unreachable\n",
            "To D: Unreachable\n",
            "To E: 0\n",
            "To F: Unreachable\n",
            "To G: 7\n",
            "\n",
            "From F:\n",
            "To A: Unreachable\n",
            "To B: Unreachable\n",
            "To C: Unreachable\n",
            "To D: Unreachable\n",
            "To E: Unreachable\n",
            "To F: 0\n",
            "To G: 35\n",
            "\n",
            "From G:\n",
            "To A: Unreachable\n",
            "To B: Unreachable\n",
            "To C: Unreachable\n",
            "To D: Unreachable\n",
            "To E: Unreachable\n",
            "To F: Unreachable\n",
            "To G: 0\n"
          ]
        }
      ]
    },
    {
      "cell_type": "code",
      "source": [
        "#(27) PRIMS\n",
        "import heapq  # Import heapq for priority queue\n",
        "def prim(n, graph, start=0):\n",
        "    visited = [False] * n          # Track visited vertices\n",
        "    min_heap = [(0, start)]        # Start with (weight=0, start vertex)\n",
        "    mst_weight = 0                 # Store total weight of the MST\n",
        "    while min_heap:\n",
        "        cost, u = heapq.heappop(min_heap)  # Choose the edge with minimum weight\n",
        "        if visited[u]:\n",
        "            continue\n",
        "        visited[u] = True          # Mark current vertex as visited\n",
        "        mst_weight += cost         # Add edge's weight to MST total\n",
        "        # Add all edges from u to unvisited neighbors\n",
        "        for v, weight in graph[u]:\n",
        "            if not visited[v]:\n",
        "                heapq.heappush(min_heap, (weight, v))\n",
        "    return mst_weight  # Return total weight of the MST\n",
        "n = 5  # Number of vertices\n",
        "# Adjacency list of an undirected weighted graph\n",
        "graph = {\n",
        "    0: [(1, 2), (3, 6)],\n",
        "    1: [(0, 2), (2, 3), (3, 8), (4, 5)],\n",
        "    2: [(1, 3), (4, 7)],\n",
        "    3: [(0, 6), (1, 8)],\n",
        "    4: [(1, 5), (2, 7)]\n",
        "}\n",
        "# Run Prim’s algorithm and print MST weight\n",
        "print(\"Prim’s MST Weight:\", prim(n, graph))"
      ],
      "metadata": {
        "colab": {
          "base_uri": "https://localhost:8080/"
        },
        "id": "SZGnfE6iKB8V",
        "outputId": "0eb5fe2e-282e-4266-c634-2e9e08434d6b"
      },
      "execution_count": 1,
      "outputs": [
        {
          "output_type": "stream",
          "name": "stdout",
          "text": [
            "Prim’s MST Weight: 16\n"
          ]
        }
      ]
    },
    {
      "cell_type": "code",
      "source": [
        "#(28) KRUSHKAL'S\n",
        "def kruskal(n, edges):\n",
        "    parent = list(range(n))  # Initialize parent array for union-find\n",
        "    # Find operation with path compression\n",
        "    def find(u):\n",
        "        while u != parent[u]:\n",
        "            parent[u] = parent[parent[u]]  # Path compression\n",
        "            u = parent[u]\n",
        "        return u\n",
        "    # Union operation to merge two sets\n",
        "    def union(u, v):\n",
        "        pu, pv = find(u), find(v)\n",
        "        if pu == pv:\n",
        "            return False  # Cycle detected\n",
        "        parent[pu] = pv    # Union the sets\n",
        "        return True\n",
        "    # Sort edges by weight (greedy choice)\n",
        "    edges.sort(key=lambda x: x[2])\n",
        "    mst_weight = 0\n",
        "    for u, v, w in edges:\n",
        "        if union(u, v):  # Include edge if it doesn't form a cycle\n",
        "            mst_weight += w\n",
        "    return mst_weight\n",
        "n = 5\n",
        "edges = [\n",
        "    (0, 1, 4), (0, 2, 6),\n",
        "    (1, 2, 3), (1, 3, 8),\n",
        "    (1, 4, 5), (2, 4, 7)\n",
        "]\n",
        "# Run Kruskal’s Algorithm\n",
        "print(\"Kruskal’s MST Weight:\", kruskal(n, edges))"
      ],
      "metadata": {
        "id": "SgTV_fXMKNls"
      },
      "execution_count": null,
      "outputs": []
    },
    {
      "cell_type": "code",
      "source": [
        "#(29) MERGESORT\n",
        "def mergesort(a):\n",
        "    if len(a) > 1:\n",
        "        mid = len(a) // 2\n",
        "        left = mergesort(a[:mid])\n",
        "        right = mergesort(a[mid:])\n",
        "        i = j = k = 0\n",
        "        while i < len(left) and j < len(right):\n",
        "            if left[i] < right[j]:\n",
        "                a[k] = left[i]\n",
        "                i += 1\n",
        "            else:\n",
        "                a[k] = right[j]\n",
        "                j += 1\n",
        "            k += 1\n",
        "        while i < len(left):\n",
        "            a[k] = left[i]\n",
        "            i += 1\n",
        "            k += 1\n",
        "        while j < len(right):\n",
        "            a[k] = right[j]\n",
        "            j += 1\n",
        "            k += 1\n",
        "    return a\n",
        "a=[1,3,5,7,0,-1]\n",
        "print(mergesort(a))\n"
      ],
      "metadata": {
        "colab": {
          "base_uri": "https://localhost:8080/"
        },
        "id": "o_izNT7pF-Vw",
        "outputId": "f3ff710f-8f29-4c76-af18-ec4b799a5ce5"
      },
      "execution_count": 10,
      "outputs": [
        {
          "output_type": "stream",
          "name": "stdout",
          "text": [
            "[-1, 0, 1, 3, 5, 7]\n"
          ]
        }
      ]
    }
  ]
}